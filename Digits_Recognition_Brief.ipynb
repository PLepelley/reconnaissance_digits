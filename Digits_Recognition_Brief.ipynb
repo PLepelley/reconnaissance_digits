{
 "cells": [
  {
   "cell_type": "markdown",
   "metadata": {},
   "source": [
    "# Reconnaissance des Digits basée sur les enregistrements Audios "
   ]
  },
  {
   "cell_type": "markdown",
   "metadata": {},
   "source": [
    "### Importer les bibliothéques necessaires "
   ]
  },
  {
   "cell_type": "code",
   "execution_count": 1,
   "metadata": {},
   "outputs": [
    {
     "name": "stderr",
     "output_type": "stream",
     "text": [
      "C:\\Users\\utilisateur\\anaconda\\lib\\site-packages\\xgboost\\compat.py:36: FutureWarning: pandas.Int64Index is deprecated and will be removed from pandas in a future version. Use pandas.Index with the appropriate dtype instead.\n",
      "  from pandas import MultiIndex, Int64Index\n"
     ]
    }
   ],
   "source": [
    "import numpy as np\n",
    "import os\n",
    "import matplotlib.pyplot as plt\n",
    "import seaborn as sb\n",
    "sb.set_style(\"whitegrid\", {'axes.grid' : False})\n",
    "sb.set(font_scale = 2)\n",
    "import pandas as pd\n",
    "from sklearn.model_selection import train_test_split\n",
    "from sklearn.preprocessing import StandardScaler\n",
    "from sklearn.tree import DecisionTreeClassifier\n",
    "from sklearn.ensemble import RandomForestClassifier\n",
    "from sklearn.ensemble import GradientBoostingClassifier\n",
    "from sklearn.svm import SVC\n",
    "from sklearn.neural_network import MLPClassifier\n",
    "from Tools.tools import rec\n",
    "from Tools.tools import collection\n",
    "from sklearn.neighbors import KNeighborsClassifier\n",
    "from sklearn.pipeline import Pipeline\n",
    "\n",
    "from sklearn.model_selection import GridSearchCV\n",
    "from xgboost import XGBClassifier\n"
   ]
  },
  {
   "cell_type": "code",
   "execution_count": 2,
   "metadata": {},
   "outputs": [],
   "source": [
    "import warnings\n",
    "warnings.filterwarnings('ignore')"
   ]
  },
  {
   "cell_type": "markdown",
   "metadata": {},
   "source": [
    "### Collection "
   ]
  },
  {
   "cell_type": "code",
   "execution_count": 3,
   "metadata": {},
   "outputs": [],
   "source": [
    "#collection()"
   ]
  },
  {
   "cell_type": "markdown",
   "metadata": {},
   "source": [
    "#### 1. Importer votre DataSet"
   ]
  },
  {
   "cell_type": "code",
   "execution_count": 4,
   "metadata": {},
   "outputs": [],
   "source": [
    "mydata = pd.read_csv('./DataSet/'+os.listdir('./DataSet/')[0])"
   ]
  },
  {
   "cell_type": "markdown",
   "metadata": {},
   "source": [
    "##### Print"
   ]
  },
  {
   "cell_type": "code",
   "execution_count": 5,
   "metadata": {},
   "outputs": [
    {
     "data": {
      "text/html": [
       "<div>\n",
       "<style scoped>\n",
       "    .dataframe tbody tr th:only-of-type {\n",
       "        vertical-align: middle;\n",
       "    }\n",
       "\n",
       "    .dataframe tbody tr th {\n",
       "        vertical-align: top;\n",
       "    }\n",
       "\n",
       "    .dataframe thead th {\n",
       "        text-align: right;\n",
       "    }\n",
       "</style>\n",
       "<table border=\"1\" class=\"dataframe\">\n",
       "  <thead>\n",
       "    <tr style=\"text-align: right;\">\n",
       "      <th></th>\n",
       "      <th>Fe1</th>\n",
       "      <th>Fe2</th>\n",
       "      <th>Fe3</th>\n",
       "      <th>Fe4</th>\n",
       "      <th>Fe5</th>\n",
       "      <th>Fe6</th>\n",
       "      <th>Fe7</th>\n",
       "      <th>Fe8</th>\n",
       "      <th>Fe9</th>\n",
       "      <th>Fe10</th>\n",
       "      <th>Fe11</th>\n",
       "      <th>Fe12</th>\n",
       "      <th>Target</th>\n",
       "    </tr>\n",
       "  </thead>\n",
       "  <tbody>\n",
       "    <tr>\n",
       "      <th>0</th>\n",
       "      <td>13.481517</td>\n",
       "      <td>-31.851355</td>\n",
       "      <td>-4.851970</td>\n",
       "      <td>-8.321583</td>\n",
       "      <td>-1.463109</td>\n",
       "      <td>-8.099985</td>\n",
       "      <td>-2.326285</td>\n",
       "      <td>-1.540770</td>\n",
       "      <td>-0.551869</td>\n",
       "      <td>-1.784855</td>\n",
       "      <td>-0.793803</td>\n",
       "      <td>-0.932979</td>\n",
       "      <td>0.0</td>\n",
       "    </tr>\n",
       "    <tr>\n",
       "      <th>1</th>\n",
       "      <td>11.715697</td>\n",
       "      <td>-28.043413</td>\n",
       "      <td>-5.141512</td>\n",
       "      <td>-8.432868</td>\n",
       "      <td>-3.335683</td>\n",
       "      <td>-9.392343</td>\n",
       "      <td>-0.309920</td>\n",
       "      <td>0.044392</td>\n",
       "      <td>-0.128058</td>\n",
       "      <td>-1.853225</td>\n",
       "      <td>-2.570185</td>\n",
       "      <td>0.133672</td>\n",
       "      <td>1.0</td>\n",
       "    </tr>\n",
       "    <tr>\n",
       "      <th>2</th>\n",
       "      <td>10.451600</td>\n",
       "      <td>-28.579900</td>\n",
       "      <td>-6.451272</td>\n",
       "      <td>-8.095307</td>\n",
       "      <td>-0.406414</td>\n",
       "      <td>-7.307607</td>\n",
       "      <td>-0.174653</td>\n",
       "      <td>-2.252004</td>\n",
       "      <td>-5.029072</td>\n",
       "      <td>-4.699203</td>\n",
       "      <td>-2.378585</td>\n",
       "      <td>-0.538692</td>\n",
       "      <td>2.0</td>\n",
       "    </tr>\n",
       "    <tr>\n",
       "      <th>3</th>\n",
       "      <td>9.939052</td>\n",
       "      <td>-30.662863</td>\n",
       "      <td>-5.725288</td>\n",
       "      <td>-10.543627</td>\n",
       "      <td>-6.202146</td>\n",
       "      <td>-11.700844</td>\n",
       "      <td>-2.440937</td>\n",
       "      <td>-0.554714</td>\n",
       "      <td>1.247607</td>\n",
       "      <td>1.100560</td>\n",
       "      <td>-0.910360</td>\n",
       "      <td>-2.137901</td>\n",
       "      <td>3.0</td>\n",
       "    </tr>\n",
       "    <tr>\n",
       "      <th>4</th>\n",
       "      <td>10.609325</td>\n",
       "      <td>-28.953223</td>\n",
       "      <td>-10.035024</td>\n",
       "      <td>-11.681134</td>\n",
       "      <td>-3.977335</td>\n",
       "      <td>-10.565003</td>\n",
       "      <td>0.958430</td>\n",
       "      <td>1.669359</td>\n",
       "      <td>-1.781917</td>\n",
       "      <td>-1.403716</td>\n",
       "      <td>1.190149</td>\n",
       "      <td>1.476161</td>\n",
       "      <td>4.0</td>\n",
       "    </tr>\n",
       "    <tr>\n",
       "      <th>5</th>\n",
       "      <td>11.472922</td>\n",
       "      <td>-27.502232</td>\n",
       "      <td>-8.447942</td>\n",
       "      <td>-8.034206</td>\n",
       "      <td>-0.244332</td>\n",
       "      <td>-8.956638</td>\n",
       "      <td>-0.481482</td>\n",
       "      <td>-1.223267</td>\n",
       "      <td>-2.800208</td>\n",
       "      <td>-3.843630</td>\n",
       "      <td>-3.362444</td>\n",
       "      <td>-0.899208</td>\n",
       "      <td>5.0</td>\n",
       "    </tr>\n",
       "    <tr>\n",
       "      <th>6</th>\n",
       "      <td>14.652252</td>\n",
       "      <td>-32.161181</td>\n",
       "      <td>-11.078513</td>\n",
       "      <td>-1.936705</td>\n",
       "      <td>-0.873364</td>\n",
       "      <td>-11.742447</td>\n",
       "      <td>5.718357</td>\n",
       "      <td>-2.551098</td>\n",
       "      <td>-5.642173</td>\n",
       "      <td>1.228261</td>\n",
       "      <td>-1.273229</td>\n",
       "      <td>-0.614285</td>\n",
       "      <td>6.0</td>\n",
       "    </tr>\n",
       "    <tr>\n",
       "      <th>7</th>\n",
       "      <td>10.516205</td>\n",
       "      <td>-29.084525</td>\n",
       "      <td>-9.570402</td>\n",
       "      <td>-10.956932</td>\n",
       "      <td>-2.378919</td>\n",
       "      <td>-8.763068</td>\n",
       "      <td>-0.230334</td>\n",
       "      <td>-2.831689</td>\n",
       "      <td>-4.660779</td>\n",
       "      <td>-1.167214</td>\n",
       "      <td>2.887998</td>\n",
       "      <td>2.648579</td>\n",
       "      <td>7.0</td>\n",
       "    </tr>\n",
       "    <tr>\n",
       "      <th>8</th>\n",
       "      <td>13.670591</td>\n",
       "      <td>-25.181530</td>\n",
       "      <td>-4.722859</td>\n",
       "      <td>-3.895456</td>\n",
       "      <td>1.223786</td>\n",
       "      <td>-9.091931</td>\n",
       "      <td>-2.480710</td>\n",
       "      <td>-7.635310</td>\n",
       "      <td>-8.529226</td>\n",
       "      <td>-2.921849</td>\n",
       "      <td>-0.881804</td>\n",
       "      <td>0.205479</td>\n",
       "      <td>8.0</td>\n",
       "    </tr>\n",
       "    <tr>\n",
       "      <th>9</th>\n",
       "      <td>11.699487</td>\n",
       "      <td>-26.211017</td>\n",
       "      <td>-10.890272</td>\n",
       "      <td>-8.181535</td>\n",
       "      <td>1.175208</td>\n",
       "      <td>-9.427393</td>\n",
       "      <td>0.881483</td>\n",
       "      <td>-1.921829</td>\n",
       "      <td>-5.264609</td>\n",
       "      <td>-2.335015</td>\n",
       "      <td>-0.918496</td>\n",
       "      <td>1.161193</td>\n",
       "      <td>9.0</td>\n",
       "    </tr>\n",
       "    <tr>\n",
       "      <th>10</th>\n",
       "      <td>11.091831</td>\n",
       "      <td>-30.936507</td>\n",
       "      <td>-6.154438</td>\n",
       "      <td>-9.604845</td>\n",
       "      <td>-3.083028</td>\n",
       "      <td>-11.167977</td>\n",
       "      <td>-4.057480</td>\n",
       "      <td>-2.241420</td>\n",
       "      <td>-1.184467</td>\n",
       "      <td>-2.344074</td>\n",
       "      <td>-1.305978</td>\n",
       "      <td>0.102114</td>\n",
       "      <td>0.0</td>\n",
       "    </tr>\n",
       "  </tbody>\n",
       "</table>\n",
       "</div>"
      ],
      "text/plain": [
       "          Fe1        Fe2        Fe3        Fe4       Fe5        Fe6       Fe7  \\\n",
       "0   13.481517 -31.851355  -4.851970  -8.321583 -1.463109  -8.099985 -2.326285   \n",
       "1   11.715697 -28.043413  -5.141512  -8.432868 -3.335683  -9.392343 -0.309920   \n",
       "2   10.451600 -28.579900  -6.451272  -8.095307 -0.406414  -7.307607 -0.174653   \n",
       "3    9.939052 -30.662863  -5.725288 -10.543627 -6.202146 -11.700844 -2.440937   \n",
       "4   10.609325 -28.953223 -10.035024 -11.681134 -3.977335 -10.565003  0.958430   \n",
       "5   11.472922 -27.502232  -8.447942  -8.034206 -0.244332  -8.956638 -0.481482   \n",
       "6   14.652252 -32.161181 -11.078513  -1.936705 -0.873364 -11.742447  5.718357   \n",
       "7   10.516205 -29.084525  -9.570402 -10.956932 -2.378919  -8.763068 -0.230334   \n",
       "8   13.670591 -25.181530  -4.722859  -3.895456  1.223786  -9.091931 -2.480710   \n",
       "9   11.699487 -26.211017 -10.890272  -8.181535  1.175208  -9.427393  0.881483   \n",
       "10  11.091831 -30.936507  -6.154438  -9.604845 -3.083028 -11.167977 -4.057480   \n",
       "\n",
       "         Fe8       Fe9      Fe10      Fe11      Fe12  Target  \n",
       "0  -1.540770 -0.551869 -1.784855 -0.793803 -0.932979     0.0  \n",
       "1   0.044392 -0.128058 -1.853225 -2.570185  0.133672     1.0  \n",
       "2  -2.252004 -5.029072 -4.699203 -2.378585 -0.538692     2.0  \n",
       "3  -0.554714  1.247607  1.100560 -0.910360 -2.137901     3.0  \n",
       "4   1.669359 -1.781917 -1.403716  1.190149  1.476161     4.0  \n",
       "5  -1.223267 -2.800208 -3.843630 -3.362444 -0.899208     5.0  \n",
       "6  -2.551098 -5.642173  1.228261 -1.273229 -0.614285     6.0  \n",
       "7  -2.831689 -4.660779 -1.167214  2.887998  2.648579     7.0  \n",
       "8  -7.635310 -8.529226 -2.921849 -0.881804  0.205479     8.0  \n",
       "9  -1.921829 -5.264609 -2.335015 -0.918496  1.161193     9.0  \n",
       "10 -2.241420 -1.184467 -2.344074 -1.305978  0.102114     0.0  "
      ]
     },
     "execution_count": 5,
     "metadata": {},
     "output_type": "execute_result"
    }
   ],
   "source": [
    "mydata.head(11)"
   ]
  },
  {
   "cell_type": "code",
   "execution_count": 6,
   "metadata": {},
   "outputs": [
    {
     "data": {
      "text/plain": [
       "(200, 13)"
      ]
     },
     "execution_count": 6,
     "metadata": {},
     "output_type": "execute_result"
    }
   ],
   "source": [
    "mydata.shape"
   ]
  },
  {
   "cell_type": "markdown",
   "metadata": {},
   "source": [
    "#### 2. Checker les variables quantitatives/qualitatives et les valeurs manquantes "
   ]
  },
  {
   "cell_type": "code",
   "execution_count": 7,
   "metadata": {},
   "outputs": [
    {
     "data": {
      "text/plain": [
       "Fe1       0\n",
       "Fe2       0\n",
       "Fe3       0\n",
       "Fe4       0\n",
       "Fe5       0\n",
       "Fe6       0\n",
       "Fe7       0\n",
       "Fe8       0\n",
       "Fe9       0\n",
       "Fe10      0\n",
       "Fe11      0\n",
       "Fe12      0\n",
       "Target    0\n",
       "dtype: int64"
      ]
     },
     "execution_count": 7,
     "metadata": {},
     "output_type": "execute_result"
    }
   ],
   "source": [
    "mydata.isna().sum()"
   ]
  },
  {
   "cell_type": "markdown",
   "metadata": {},
   "source": [
    "#### 3. Visualiser les targets"
   ]
  },
  {
   "cell_type": "code",
   "execution_count": 8,
   "metadata": {},
   "outputs": [
    {
     "data": {
      "text/plain": [
       "0.0    20\n",
       "1.0    20\n",
       "2.0    20\n",
       "3.0    20\n",
       "4.0    20\n",
       "5.0    20\n",
       "6.0    20\n",
       "7.0    20\n",
       "8.0    20\n",
       "9.0    20\n",
       "Name: Target, dtype: int64"
      ]
     },
     "execution_count": 8,
     "metadata": {},
     "output_type": "execute_result"
    }
   ],
   "source": [
    "mydata['Target'].value_counts()"
   ]
  },
  {
   "cell_type": "code",
   "execution_count": 9,
   "metadata": {},
   "outputs": [
    {
     "data": {
      "image/png": "[encoded data removed]",
      "text/plain": [
       "<Figure size 1080x648 with 1 Axes>"
      ]
     },
     "metadata": {},
     "output_type": "display_data"
    }
   ],
   "source": [
    "plt.figure(1,figsize=(15,9))\n",
    "sb.countplot(x='Target', data=mydata, palette=\"deep\")\n",
    "plt.xlabel('Target')\n",
    "plt.ylabel('Count')\n",
    "plt.show()"
   ]
  },
  {
   "cell_type": "markdown",
   "metadata": {},
   "source": [
    "#### Réduction des dimensions (PCA)"
   ]
  },
  {
   "cell_type": "code",
   "execution_count": 30,
   "metadata": {},
   "outputs": [
    {
     "data": {
      "image/png": "[encoded data removed]",
      "text/plain": [
       "<Figure size 1080x648 with 1 Axes>"
      ]
     },
     "metadata": {},
     "output_type": "display_data"
    }
   ],
   "source": [
    "import seaborn as sns \n",
    "import matplotlib.pyplot as plt \n",
    "from sklearn.decomposition import PCA\n",
    "\n",
    "pca = PCA(n_components=2)\n",
    "df2 = pd.DataFrame(pca.fit_transform(mydata.iloc[:, :-1]))\n",
    "\n",
    "df2[\"Target\"] = mydata[\"Target\"]\n",
    "df2.columns = [\"P1\",\"P2\",\"Target\"]\n",
    "\n",
    "\n",
    "plt.figure(1,figsize=(15,9))\n",
    "plt.clf()\n",
    "sns.scatterplot(x=\"P1\",y=\"P2\",hue=\"Target\",data=df2, palette = \"Paired\", )\n",
    "\n",
    "\n",
    "\n",
    "#plt.plot(x,y,\"+\")\n",
    "\n",
    "plt.xlabel('P1')\n",
    "plt.ylabel('P2')\n",
    "plt.legend(loc=2, prop={'size': 10})\n",
    "plt.show()"
   ]
  },
  {
   "cell_type": "markdown",
   "metadata": {},
   "source": [
    "#### 4. Notre variable target (Y) est 'gender', Récuprer X et y à partir du jeu de données "
   ]
  },
  {
   "cell_type": "code",
   "execution_count": 10,
   "metadata": {},
   "outputs": [
    {
     "data": {
      "text/plain": [
       "(200, 12)"
      ]
     },
     "execution_count": 10,
     "metadata": {},
     "output_type": "execute_result"
    }
   ],
   "source": [
    "y = mydata['Target']\n",
    "X = mydata.iloc[:,:-1]\n",
    "X.shape"
   ]
  },
  {
   "cell_type": "code",
   "execution_count": 11,
   "metadata": {},
   "outputs": [
    {
     "data": {
      "text/plain": [
       "(200,)"
      ]
     },
     "execution_count": 11,
     "metadata": {},
     "output_type": "execute_result"
    }
   ],
   "source": [
    "y.shape"
   ]
  },
  {
   "cell_type": "markdown",
   "metadata": {},
   "source": [
    "#### 5. Diviser la DataSet en donneés d'apprentissage et de test (20% pour le test)"
   ]
  },
  {
   "cell_type": "code",
   "execution_count": 12,
   "metadata": {},
   "outputs": [
    {
     "name": "stdout",
     "output_type": "stream",
     "text": [
      "Les dimensions de : X_train.shape = (160, 12), X_test.shape = (40, 12), y_train.shape = (160,), y_test.shape = (40,)\n"
     ]
    }
   ],
   "source": [
    "X_train, X_test, y_train, y_test = train_test_split(X, y, test_size = 0.2, random_state = 0)\n",
    "\n",
    "print(f\"Les dimensions de : {X_train.shape = }, {X_test.shape = }, {y_train.shape = }, {y_test.shape = }\")"
   ]
  },
  {
   "cell_type": "markdown",
   "metadata": {},
   "source": [
    "#### 6. Appliquer une normalisation centrée-réduite aux données en utilisant \"StandardScaler\""
   ]
  },
  {
   "cell_type": "code",
   "execution_count": 13,
   "metadata": {},
   "outputs": [
    {
     "data": {
      "text/plain": [
       "StandardScaler()"
      ]
     },
     "execution_count": 13,
     "metadata": {},
     "output_type": "execute_result"
    }
   ],
   "source": [
    "scaler = StandardScaler()\n",
    "scaler.fit(X_train)"
   ]
  },
  {
   "cell_type": "code",
   "execution_count": 14,
   "metadata": {},
   "outputs": [],
   "source": [
    "X_train_scaled = scaler.transform(X_train)\n",
    "X_train_scaled = pd.DataFrame(X_train_scaled, index = X_train.index, columns = X_train.columns)\n",
    "X_test_scaled = scaler.transform(X_test)\n",
    "X_test_scaled = pd.DataFrame(X_test_scaled, index = X_test.index, columns = X_test.columns)"
   ]
  },
  {
   "cell_type": "code",
   "execution_count": 15,
   "metadata": {},
   "outputs": [
    {
     "data": {
      "text/plain": [
       "Fe1    -0.054426\n",
       "Fe2     0.018950\n",
       "Fe3     0.061758\n",
       "Fe4    -0.212109\n",
       "Fe5    -0.177811\n",
       "Fe6    -0.015671\n",
       "Fe7    -0.089339\n",
       "Fe8     0.025649\n",
       "Fe9    -0.004453\n",
       "Fe10   -0.213113\n",
       "Fe11   -0.102162\n",
       "Fe12    0.070112\n",
       "dtype: float64"
      ]
     },
     "execution_count": 15,
     "metadata": {},
     "output_type": "execute_result"
    }
   ],
   "source": [
    "X_test_scaled.mean()"
   ]
  },
  {
   "cell_type": "code",
   "execution_count": 16,
   "metadata": {},
   "outputs": [
    {
     "data": {
      "text/plain": [
       "Fe1     1.202137\n",
       "Fe2     1.347444\n",
       "Fe3     1.184182\n",
       "Fe4     0.988068\n",
       "Fe5     0.935800\n",
       "Fe6     0.908432\n",
       "Fe7     0.980137\n",
       "Fe8     0.860093\n",
       "Fe9     0.856293\n",
       "Fe10    1.028791\n",
       "Fe11    0.995814\n",
       "Fe12    1.059343\n",
       "dtype: float64"
      ]
     },
     "execution_count": 16,
     "metadata": {},
     "output_type": "execute_result"
    }
   ],
   "source": [
    "X_test_scaled.std()"
   ]
  },
  {
   "cell_type": "markdown",
   "metadata": {},
   "source": [
    "#### 7. Développer votre meilleur modèle de classification"
   ]
  },
  {
   "cell_type": "code",
   "execution_count": 17,
   "metadata": {
    "scrolled": true
   },
   "outputs": [
    {
     "name": "stdout",
     "output_type": "stream",
     "text": [
      "key_word\n",
      "['svc', 'knn', 'tree', 'random_forest']\n",
      "model\n",
      "[SVC(), KNeighborsClassifier(), DecisionTreeClassifier(), <class 'sklearn.ensemble._forest.RandomForestClassifier'>]\n"
     ]
    }
   ],
   "source": [
    "model = {'key_word' : ['svc', 'knn', 'tree', 'random_forest'], 'model' : [SVC(), KNeighborsClassifier(), DecisionTreeClassifier(), RandomForestClassifier]}\n",
    "dict = {'key_word' : 'svc', 'a':1, 'b': 2}\n",
    "for key, value in model.items():\n",
    "    print(key)\n",
    "    print(value)\n"
   ]
  },
  {
   "cell_type": "code",
   "execution_count": 20,
   "metadata": {},
   "outputs": [],
   "source": [
    "model_name = ['svc', 'knn', 'decision_tree', 'random_forest', 'boost', 'XGB', 'MLP']\n",
    "pipelines = [\n",
    "             Pipeline([('scaler', StandardScaler()), ('svc', SVC())]),\n",
    "             Pipeline([('scaler', StandardScaler()), ('knn',  KNeighborsClassifier())]),\n",
    "             Pipeline([('scaler', StandardScaler()), ('decision_tree', DecisionTreeClassifier())]),\n",
    "             Pipeline([('scaler', StandardScaler()), ('forest', RandomForestClassifier())]),\n",
    "             Pipeline([('scaler', StandardScaler()), ('boost', GradientBoostingClassifier())]),\n",
    "             Pipeline([('scaler', StandardScaler()), ('XGB', XGBClassifier())]),\n",
    "             Pipeline([('scaler', StandardScaler()), ('MLP', MLPClassifier())])]\n",
    "\n",
    "parameters =[{'svc__kernel': ['linear', 'rbf'],\n",
    "               'svc__C':[1, 10]}, \n",
    "            {'knn__n_neighbors': np.arange(1, 10), \n",
    "              'knn__metric':[\"euclidean\", \"minkowski\", \"manhattan\"]},\n",
    "             {},\n",
    "             {'forest__n_estimators': np.arange(100, 125)},\n",
    "             {'boost__loss' : ['deviance', 'boost__exponential'], 'boost__learning_rate' : [0.1, 0.2, 0.3]},\n",
    "             {'XGB__eta' : [0.1, 0.2, 0.3, 0.4], 'XGB__max_depth' : [2, 4, 6, 8, 10], 'XGB__eval_metric' : ['mlogloss']},\n",
    "             {'MLP__hidden_layer_sizes' : [(50,), (100,), (150,)], 'MLP__activation' : ['identity', 'logistic', 'tanh', 'relu']}]\n",
    "\n",
    "\n",
    "score = []\n",
    "best_param = []\n",
    "\n",
    "\n",
    "for model, p, name in zip(pipelines, parameters, model_name):\n",
    "        exp = GridSearchCV(model, param_grid = p)\n",
    "        exp.fit(X_train, y_train)\n",
    "        score.append([name, exp.score(X_test, y_test), exp.best_params_])\n",
    "        #best_param.append(exp.best_params_)        \n"
   ]
  },
  {
   "cell_type": "code",
   "execution_count": 21,
   "metadata": {},
   "outputs": [
    {
     "data": {
      "text/plain": [
       "[['MLP', 0.925, {'MLP__activation': 'tanh', 'MLP__hidden_layer_sizes': (50,)}],\n",
       " ['svc', 0.9, {'svc__C': 1, 'svc__kernel': 'rbf'}],\n",
       " ['knn', 0.85, {'knn__metric': 'manhattan', 'knn__n_neighbors': 8}],\n",
       " ['random_forest', 0.8, {'forest__n_estimators': 110}],\n",
       " ['XGB',\n",
       "  0.775,\n",
       "  {'XGB__eta': 0.3, 'XGB__eval_metric': 'mlogloss', 'XGB__max_depth': 2}],\n",
       " ['decision_tree', 0.675, {}],\n",
       " ['boost', 0.675, {'boost__learning_rate': 0.3, 'boost__loss': 'deviance'}]]"
      ]
     },
     "execution_count": 21,
     "metadata": {},
     "output_type": "execute_result"
    }
   ],
   "source": [
    "sorted(score, key=itemgetter(1), reverse=True)"
   ]
  },
  {
   "cell_type": "code",
   "execution_count": 38,
   "metadata": {},
   "outputs": [
    {
     "data": {
      "text/plain": [
       "['model_MLP']"
      ]
     },
     "execution_count": 38,
     "metadata": {},
     "output_type": "execute_result"
    }
   ],
   "source": [
    "from joblib import dump, load\n",
    "dump(MLPClassifier(activation= 'tanh', hidden_layer_sizes= (50,)) , 'model_MLP')"
   ]
  },
  {
   "cell_type": "markdown",
   "metadata": {},
   "source": [
    "# Application en Temps Réel"
   ]
  },
  {
   "cell_type": "code",
   "execution_count": 22,
   "metadata": {},
   "outputs": [],
   "source": [
    "from Tools.tools import rec\n",
    "from Tools.tools import collection\n"
   ]
  },
  {
   "cell_type": "markdown",
   "metadata": {},
   "source": [
    "#### Test sur le modèle du SVC"
   ]
  },
  {
   "cell_type": "code",
   "execution_count": null,
   "metadata": {},
   "outputs": [],
   "source": [
    "model = SVC(C= 1, kernel= 'rbf')\n",
    "model.fit(X_train_scaled, y_train)"
   ]
  },
  {
   "cell_type": "code",
   "execution_count": null,
   "metadata": {},
   "outputs": [],
   "source": [
    "rec(scaler, model)"
   ]
  },
  {
   "cell_type": "markdown",
   "metadata": {},
   "source": [
    "#### Test sur le modèle MLP"
   ]
  },
  {
   "cell_type": "code",
   "execution_count": 31,
   "metadata": {},
   "outputs": [],
   "source": [
    "#model_MLP_scaled = MLPClassifier(activation= 'tanh', hidden_layer_sizes= (50,))\n",
    "#model_MLP_scaled.fit(X_train_scaled, y_train)"
   ]
  },
  {
   "cell_type": "code",
   "execution_count": 40,
   "metadata": {},
   "outputs": [
    {
     "data": {
      "text/plain": [
       "MLPClassifier(activation='tanh', hidden_layer_sizes=(50,))"
      ]
     },
     "execution_count": 40,
     "metadata": {},
     "output_type": "execute_result"
    }
   ],
   "source": [
    "m_jlib = load('model_MLP')\n",
    "m_jlib.fit(X_train_scaled, y_train)"
   ]
  },
  {
   "cell_type": "code",
   "execution_count": 41,
   "metadata": {},
   "outputs": [
    {
     "name": "stdout",
     "output_type": "stream",
     "text": [
      "Attention, l'enregistrement commence dans :\n",
      "5\n",
      "4\n",
      "3\n",
      "2\n",
      "1\n",
      "0\n",
      "Prononcer votre Digit : \n",
      "------------------\n",
      "Digit :  8.0\n",
      "------------------\n"
     ]
    }
   ],
   "source": [
    "rec(scaler, model_MLP_scaled)"
   ]
  },
  {
   "cell_type": "markdown",
   "metadata": {},
   "source": [
    "#### Résultats avec les modèles SVC et MLP"
   ]
  },
  {
   "cell_type": "code",
   "execution_count": 42,
   "metadata": {},
   "outputs": [
    {
     "data": {
      "text/html": [
       "<div>\n",
       "<style scoped>\n",
       "    .dataframe tbody tr th:only-of-type {\n",
       "        vertical-align: middle;\n",
       "    }\n",
       "\n",
       "    .dataframe tbody tr th {\n",
       "        vertical-align: top;\n",
       "    }\n",
       "\n",
       "    .dataframe thead th {\n",
       "        text-align: right;\n",
       "    }\n",
       "</style>\n",
       "<table border=\"1\" class=\"dataframe\">\n",
       "  <thead>\n",
       "    <tr style=\"text-align: right;\">\n",
       "      <th></th>\n",
       "      <th>essai1</th>\n",
       "      <th>essai2</th>\n",
       "      <th>essai3</th>\n",
       "    </tr>\n",
       "  </thead>\n",
       "  <tbody>\n",
       "    <tr>\n",
       "      <th>0</th>\n",
       "      <td>1</td>\n",
       "      <td>1</td>\n",
       "      <td>1</td>\n",
       "    </tr>\n",
       "    <tr>\n",
       "      <th>1</th>\n",
       "      <td>1</td>\n",
       "      <td>1</td>\n",
       "      <td>1</td>\n",
       "    </tr>\n",
       "    <tr>\n",
       "      <th>2</th>\n",
       "      <td>1</td>\n",
       "      <td>1</td>\n",
       "      <td>1</td>\n",
       "    </tr>\n",
       "    <tr>\n",
       "      <th>3</th>\n",
       "      <td>1</td>\n",
       "      <td>1</td>\n",
       "      <td>1</td>\n",
       "    </tr>\n",
       "    <tr>\n",
       "      <th>4</th>\n",
       "      <td>1</td>\n",
       "      <td>1</td>\n",
       "      <td>1</td>\n",
       "    </tr>\n",
       "    <tr>\n",
       "      <th>5</th>\n",
       "      <td>0</td>\n",
       "      <td>0</td>\n",
       "      <td>1</td>\n",
       "    </tr>\n",
       "    <tr>\n",
       "      <th>6</th>\n",
       "      <td>1</td>\n",
       "      <td>1</td>\n",
       "      <td>1</td>\n",
       "    </tr>\n",
       "    <tr>\n",
       "      <th>7</th>\n",
       "      <td>1</td>\n",
       "      <td>1</td>\n",
       "      <td>1</td>\n",
       "    </tr>\n",
       "    <tr>\n",
       "      <th>8</th>\n",
       "      <td>1</td>\n",
       "      <td>1</td>\n",
       "      <td>1</td>\n",
       "    </tr>\n",
       "    <tr>\n",
       "      <th>9</th>\n",
       "      <td>1</td>\n",
       "      <td>1</td>\n",
       "      <td>1</td>\n",
       "    </tr>\n",
       "  </tbody>\n",
       "</table>\n",
       "</div>"
      ],
      "text/plain": [
       "   essai1  essai2  essai3\n",
       "0       1       1       1\n",
       "1       1       1       1\n",
       "2       1       1       1\n",
       "3       1       1       1\n",
       "4       1       1       1\n",
       "5       0       0       1\n",
       "6       1       1       1\n",
       "7       1       1       1\n",
       "8       1       1       1\n",
       "9       1       1       1"
      ]
     },
     "execution_count": 42,
     "metadata": {},
     "output_type": "execute_result"
    }
   ],
   "source": [
    "d = {'essai1': [1, 1, 1, 1, 1, 0, 1, 1, 1, 1], 'essai2': [1, 1, 1, 1, 1, 0, 1, 1, 1, 1], 'essai3': [1, 1, 1, 1, 1, 1, 1, 1, 1, 1]}\n",
    "score_svc = pd.DataFrame(data=d, index=[0, 1, 2, 3, 4, 5, 6, 7, 8, 9])\n",
    "score_svc"
   ]
  },
  {
   "cell_type": "code",
   "execution_count": null,
   "metadata": {},
   "outputs": [],
   "source": [
    "sns.pairplot(mydata, hue='Target', corner = True)"
   ]
  },
  {
   "cell_type": "code",
   "execution_count": 43,
   "metadata": {},
   "outputs": [
    {
     "data": {
      "text/html": [
       "<div>\n",
       "<style scoped>\n",
       "    .dataframe tbody tr th:only-of-type {\n",
       "        vertical-align: middle;\n",
       "    }\n",
       "\n",
       "    .dataframe tbody tr th {\n",
       "        vertical-align: top;\n",
       "    }\n",
       "\n",
       "    .dataframe thead th {\n",
       "        text-align: right;\n",
       "    }\n",
       "</style>\n",
       "<table border=\"1\" class=\"dataframe\">\n",
       "  <thead>\n",
       "    <tr style=\"text-align: right;\">\n",
       "      <th></th>\n",
       "      <th>essai1</th>\n",
       "      <th>essai2</th>\n",
       "      <th>essai3</th>\n",
       "      <th>Total</th>\n",
       "    </tr>\n",
       "  </thead>\n",
       "  <tbody>\n",
       "    <tr>\n",
       "      <th>0</th>\n",
       "      <td>1</td>\n",
       "      <td>1</td>\n",
       "      <td>1</td>\n",
       "      <td>NaN</td>\n",
       "    </tr>\n",
       "    <tr>\n",
       "      <th>1</th>\n",
       "      <td>1</td>\n",
       "      <td>1</td>\n",
       "      <td>1</td>\n",
       "      <td>NaN</td>\n",
       "    </tr>\n",
       "    <tr>\n",
       "      <th>2</th>\n",
       "      <td>1</td>\n",
       "      <td>1</td>\n",
       "      <td>1</td>\n",
       "      <td>NaN</td>\n",
       "    </tr>\n",
       "    <tr>\n",
       "      <th>3</th>\n",
       "      <td>1</td>\n",
       "      <td>1</td>\n",
       "      <td>1</td>\n",
       "      <td>NaN</td>\n",
       "    </tr>\n",
       "    <tr>\n",
       "      <th>4</th>\n",
       "      <td>1</td>\n",
       "      <td>0</td>\n",
       "      <td>1</td>\n",
       "      <td>NaN</td>\n",
       "    </tr>\n",
       "    <tr>\n",
       "      <th>5</th>\n",
       "      <td>1</td>\n",
       "      <td>1</td>\n",
       "      <td>1</td>\n",
       "      <td>NaN</td>\n",
       "    </tr>\n",
       "    <tr>\n",
       "      <th>6</th>\n",
       "      <td>1</td>\n",
       "      <td>1</td>\n",
       "      <td>1</td>\n",
       "      <td>NaN</td>\n",
       "    </tr>\n",
       "    <tr>\n",
       "      <th>7</th>\n",
       "      <td>1</td>\n",
       "      <td>1</td>\n",
       "      <td>1</td>\n",
       "      <td>NaN</td>\n",
       "    </tr>\n",
       "    <tr>\n",
       "      <th>8</th>\n",
       "      <td>1</td>\n",
       "      <td>1</td>\n",
       "      <td>1</td>\n",
       "      <td>NaN</td>\n",
       "    </tr>\n",
       "    <tr>\n",
       "      <th>9</th>\n",
       "      <td>1</td>\n",
       "      <td>1</td>\n",
       "      <td>1</td>\n",
       "      <td>NaN</td>\n",
       "    </tr>\n",
       "  </tbody>\n",
       "</table>\n",
       "</div>"
      ],
      "text/plain": [
       "   essai1  essai2  essai3  Total\n",
       "0       1       1       1    NaN\n",
       "1       1       1       1    NaN\n",
       "2       1       1       1    NaN\n",
       "3       1       1       1    NaN\n",
       "4       1       0       1    NaN\n",
       "5       1       1       1    NaN\n",
       "6       1       1       1    NaN\n",
       "7       1       1       1    NaN\n",
       "8       1       1       1    NaN\n",
       "9       1       1       1    NaN"
      ]
     },
     "execution_count": 43,
     "metadata": {},
     "output_type": "execute_result"
    }
   ],
   "source": [
    "d2 = {'essai1': [1, 1, 1, 1, 1, 1, 1, 1, 1, 1], 'essai2': [1, 1, 1, 1, 0, 1, 1, 1, 1, 1], 'essai3': [1, 1, 1, 1, 1, 1, 1, 1, 1, 1]}\n",
    "score_mlp = pd.DataFrame(data=d2, index=[0, 1, 2, 3, 4, 5, 6, 7, 8, 9])\n",
    "score_mlp['Total'] = score_mlp.sum()\n",
    "score_mlp"
   ]
  },
  {
   "cell_type": "code",
   "execution_count": 44,
   "metadata": {},
   "outputs": [
    {
     "data": {
      "text/plain": [
       "essai1    10.0\n",
       "essai2     9.0\n",
       "essai3    10.0\n",
       "Total      0.0\n",
       "dtype: float64"
      ]
     },
     "execution_count": 44,
     "metadata": {},
     "output_type": "execute_result"
    }
   ],
   "source": [
    "score_mlp.sum()"
   ]
  },
  {
   "cell_type": "markdown",
   "metadata": {},
   "source": [
    "\n"
   ]
  },
  {
   "cell_type": "code",
   "execution_count": null,
   "metadata": {},
   "outputs": [],
   "source": []
  }
 ],
 "metadata": {
  "kernelspec": {
   "display_name": "Python 3",
   "language": "python",
   "name": "python3"
  },
  "language_info": {
   "codemirror_mode": {
    "name": "ipython",
    "version": 3
   },
   "file_extension": ".py",
   "mimetype": "text/x-python",
   "name": "python",
   "nbconvert_exporter": "python",
   "pygments_lexer": "ipython3",
   "version": "3.8.3"
  }
 },
 "nbformat": 4,
 "nbformat_minor": 5
}
